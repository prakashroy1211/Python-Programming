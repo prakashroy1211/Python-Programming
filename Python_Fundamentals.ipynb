{
  "nbformat": 4,
  "nbformat_minor": 0,
  "metadata": {
    "colab": {
      "provenance": [],
      "authorship_tag": "ABX9TyMFtS+7c72sqeKqYRGlbs4c",
      "include_colab_link": true
    },
    "kernelspec": {
      "name": "python3",
      "display_name": "Python 3"
    },
    "language_info": {
      "name": "python"
    }
  },
  "cells": [
    {
      "cell_type": "markdown",
      "metadata": {
        "id": "view-in-github",
        "colab_type": "text"
      },
      "source": [
        "<a href=\"https://colab.research.google.com/github/prakashroy1211/Python-Programming/blob/main/Python_Fundamentals.ipynb\" target=\"_parent\"><img src=\"https://colab.research.google.com/assets/colab-badge.svg\" alt=\"Open In Colab\"/></a>"
      ]
    },
    {
      "cell_type": "code",
      "execution_count": null,
      "metadata": {
        "id": "EiPQiQRutpCV"
      },
      "outputs": [],
      "source": [
        "\n",
        "import numpy as np\n",
        "import pandas as pd\n",
        "import matplotlib.pyplot as plt\n"
      ]
    },
    {
      "cell_type": "markdown",
      "source": [
        "#### Comments and Hello World Program"
      ],
      "metadata": {
        "id": "VnIp8GPxuLdx"
      }
    },
    {
      "cell_type": "code",
      "source": [
        "\"\"\"\n",
        "hello\n",
        "asd\n",
        "asd\n",
        "asd\n",
        "\"\"\"\n",
        "print('Hello world')"
      ],
      "metadata": {
        "colab": {
          "base_uri": "https://localhost:8080/"
        },
        "id": "QwVPb8epvOdq",
        "outputId": "a1c00492-ebec-4044-e872-3eb38e321ede"
      },
      "execution_count": null,
      "outputs": [
        {
          "output_type": "stream",
          "name": "stdout",
          "text": [
            "Hello world\n"
          ]
        }
      ]
    },
    {
      "cell_type": "markdown",
      "source": [
        "#### Strings"
      ],
      "metadata": {
        "id": "qXOtkOhYuGSG"
      }
    },
    {
      "cell_type": "code",
      "source": [
        "import keyword\n",
        "print(keyword.kwlist)"
      ],
      "metadata": {
        "colab": {
          "base_uri": "https://localhost:8080/"
        },
        "id": "guDPX0dlvSYM",
        "outputId": "4a4de1a5-417d-49bd-c641-ddc0cea9617c"
      },
      "execution_count": null,
      "outputs": [
        {
          "output_type": "stream",
          "name": "stdout",
          "text": [
            "['False', 'None', 'True', 'and', 'as', 'assert', 'async', 'await', 'break', 'class', 'continue', 'def', 'del', 'elif', 'else', 'except', 'finally', 'for', 'from', 'global', 'if', 'import', 'in', 'is', 'lambda', 'nonlocal', 'not', 'or', 'pass', 'raise', 'return', 'try', 'while', 'with', 'yield']\n"
          ]
        }
      ]
    },
    {
      "cell_type": "code",
      "source": [
        "len(keyword.kwlist)"
      ],
      "metadata": {
        "colab": {
          "base_uri": "https://localhost:8080/"
        },
        "id": "pBEgs9NsyY99",
        "outputId": "f575c54b-fd63-4e59-f953-94b08e7514a0"
      },
      "execution_count": null,
      "outputs": [
        {
          "output_type": "execute_result",
          "data": {
            "text/plain": [
              "35"
            ]
          },
          "metadata": {},
          "execution_count": 6
        }
      ]
    },
    {
      "cell_type": "code",
      "source": [
        "str = 'Hello Guys Channel to my welcome'\n",
        "str.capitalize()"
      ],
      "metadata": {
        "colab": {
          "base_uri": "https://localhost:8080/",
          "height": 35
        },
        "id": "AkROmcESyod1",
        "outputId": "af84d310-727a-4afd-fa13-6185286ab6ba"
      },
      "execution_count": null,
      "outputs": [
        {
          "output_type": "execute_result",
          "data": {
            "text/plain": [
              "'Hello guys channel to my welcome'"
            ],
            "application/vnd.google.colaboratory.intrinsic+json": {
              "type": "string"
            }
          },
          "metadata": {},
          "execution_count": 12
        }
      ]
    },
    {
      "cell_type": "code",
      "source": [
        "str.lower()"
      ],
      "metadata": {
        "colab": {
          "base_uri": "https://localhost:8080/",
          "height": 35
        },
        "id": "hceEcV9C0y6X",
        "outputId": "18562212-11af-453f-cc5e-312dc58251d2"
      },
      "execution_count": null,
      "outputs": [
        {
          "output_type": "execute_result",
          "data": {
            "text/plain": [
              "'hello guys channel to my welcome'"
            ],
            "application/vnd.google.colaboratory.intrinsic+json": {
              "type": "string"
            }
          },
          "metadata": {},
          "execution_count": 13
        }
      ]
    },
    {
      "cell_type": "code",
      "source": [
        "str.upper()"
      ],
      "metadata": {
        "colab": {
          "base_uri": "https://localhost:8080/",
          "height": 35
        },
        "id": "jOFymkOn03mV",
        "outputId": "f1ab2491-c19c-4c9d-aac8-7ee02c2020ad"
      },
      "execution_count": null,
      "outputs": [
        {
          "output_type": "execute_result",
          "data": {
            "text/plain": [
              "'HELLO GUYS CHANNEL TO MY WELCOME'"
            ],
            "application/vnd.google.colaboratory.intrinsic+json": {
              "type": "string"
            }
          },
          "metadata": {},
          "execution_count": 14
        }
      ]
    },
    {
      "cell_type": "code",
      "source": [
        "str.index('Guys')"
      ],
      "metadata": {
        "colab": {
          "base_uri": "https://localhost:8080/"
        },
        "id": "zXRUdbF304-W",
        "outputId": "ac5e3d8a-c49a-4a6c-c4af-a74fb27503c1"
      },
      "execution_count": null,
      "outputs": [
        {
          "output_type": "execute_result",
          "data": {
            "text/plain": [
              "6"
            ]
          },
          "metadata": {},
          "execution_count": 21
        }
      ]
    },
    {
      "cell_type": "code",
      "source": [
        "str.find('to')"
      ],
      "metadata": {
        "colab": {
          "base_uri": "https://localhost:8080/"
        },
        "id": "SdW4KspH078j",
        "outputId": "397e5d36-b345-436b-eeff-451d80a68c0e"
      },
      "execution_count": null,
      "outputs": [
        {
          "output_type": "execute_result",
          "data": {
            "text/plain": [
              "19"
            ]
          },
          "metadata": {},
          "execution_count": 23
        }
      ]
    },
    {
      "cell_type": "code",
      "source": [
        "str.replace(\" \", \",\")"
      ],
      "metadata": {
        "colab": {
          "base_uri": "https://localhost:8080/",
          "height": 35
        },
        "id": "EPTIzhNE1Y2z",
        "outputId": "26797c75-b518-4f1e-98e4-dec09a9f9b03"
      },
      "execution_count": null,
      "outputs": [
        {
          "output_type": "execute_result",
          "data": {
            "text/plain": [
              "'Hello,Guys,Channel,to,my,welcome'"
            ],
            "application/vnd.google.colaboratory.intrinsic+json": {
              "type": "string"
            }
          },
          "metadata": {},
          "execution_count": 24
        }
      ]
    },
    {
      "cell_type": "code",
      "source": [
        "str"
      ],
      "metadata": {
        "colab": {
          "base_uri": "https://localhost:8080/",
          "height": 35
        },
        "id": "dGgw8uEX1pUx",
        "outputId": "500baf3e-7bbe-45b0-9e3b-90923a317e7d"
      },
      "execution_count": null,
      "outputs": [
        {
          "output_type": "execute_result",
          "data": {
            "text/plain": [
              "'Hello Guys Channel to my welcome'"
            ],
            "application/vnd.google.colaboratory.intrinsic+json": {
              "type": "string"
            }
          },
          "metadata": {},
          "execution_count": 25
        }
      ]
    },
    {
      "cell_type": "code",
      "source": [
        "str.split(' ')"
      ],
      "metadata": {
        "colab": {
          "base_uri": "https://localhost:8080/"
        },
        "id": "T19-Wu2Y1tfL",
        "outputId": "2fcee722-ae8e-4226-95ce-9df295efa908"
      },
      "execution_count": null,
      "outputs": [
        {
          "output_type": "execute_result",
          "data": {
            "text/plain": [
              "['Hello', 'Guys', 'Channel', 'to', 'my', 'welcome']"
            ]
          },
          "metadata": {},
          "execution_count": 28
        }
      ]
    },
    {
      "cell_type": "markdown",
      "source": [
        "#### Lists"
      ],
      "metadata": {
        "id": "dZTwDNSLuBXX"
      }
    },
    {
      "cell_type": "code",
      "source": [
        "list1=[]\n",
        "list1=list()"
      ],
      "metadata": {
        "id": "5K_ij7pH14tt"
      },
      "execution_count": null,
      "outputs": []
    },
    {
      "cell_type": "code",
      "source": [
        "list1 = [True, False, 'ABCD', 123456789, 34234.4342, 'This is list data', 45 + 6j]"
      ],
      "metadata": {
        "id": "e_L-vVvr3d6Z"
      },
      "execution_count": null,
      "outputs": []
    },
    {
      "cell_type": "code",
      "source": [
        "list1"
      ],
      "metadata": {
        "colab": {
          "base_uri": "https://localhost:8080/"
        },
        "id": "N5ss8-lu3wRw",
        "outputId": "fa81ac9a-2b24-4987-93ff-8836b62cf98e"
      },
      "execution_count": null,
      "outputs": [
        {
          "output_type": "execute_result",
          "data": {
            "text/plain": [
              "[True, False, 'ABCD', 123456789, 34234.4342, 'This is list data', (45+6j)]"
            ]
          },
          "metadata": {},
          "execution_count": 46
        }
      ]
    },
    {
      "cell_type": "code",
      "source": [
        "list1.append(10101)"
      ],
      "metadata": {
        "id": "z8T3bdKf3x3n"
      },
      "execution_count": null,
      "outputs": []
    },
    {
      "cell_type": "code",
      "source": [
        "list1"
      ],
      "metadata": {
        "colab": {
          "base_uri": "https://localhost:8080/"
        },
        "id": "mW38ZR5k30rl",
        "outputId": "7e4774b3-75fe-47f7-c40c-73ffa4b2147b"
      },
      "execution_count": null,
      "outputs": [
        {
          "output_type": "execute_result",
          "data": {
            "text/plain": [
              "[True,\n",
              " False,\n",
              " 'ABCD',\n",
              " 123456789,\n",
              " 34234.4342,\n",
              " 'This is list data',\n",
              " (45+6j),\n",
              " 10101]"
            ]
          },
          "metadata": {},
          "execution_count": 48
        }
      ]
    },
    {
      "cell_type": "code",
      "source": [
        "list1[3]"
      ],
      "metadata": {
        "colab": {
          "base_uri": "https://localhost:8080/"
        },
        "id": "sfZGpWMR31hH",
        "outputId": "53b30de7-3bcb-4ef0-efc1-b3309635b83b"
      },
      "execution_count": null,
      "outputs": [
        {
          "output_type": "execute_result",
          "data": {
            "text/plain": [
              "123456789"
            ]
          },
          "metadata": {},
          "execution_count": 49
        }
      ]
    },
    {
      "cell_type": "code",
      "source": [
        "list1.extend(['false', 12, 'Helloguys'])\n",
        "print(list1)"
      ],
      "metadata": {
        "colab": {
          "base_uri": "https://localhost:8080/"
        },
        "id": "_uVC86Qz4VzT",
        "outputId": "f62f80d5-020b-4faa-9204-2f5e38f55425"
      },
      "execution_count": null,
      "outputs": [
        {
          "output_type": "stream",
          "name": "stdout",
          "text": [
            "[True, False, 'ABCD', 123456789, 34234.4342, 'This is list data', (45+6j), 10101, 'false', 12, 'Helloguys']\n"
          ]
        }
      ]
    },
    {
      "cell_type": "code",
      "source": [
        "list1.insert(4,'Fourth')\n",
        "print(list1)"
      ],
      "metadata": {
        "colab": {
          "base_uri": "https://localhost:8080/"
        },
        "id": "C6rPSMxS6KD3",
        "outputId": "6df86d73-2ac1-4ae3-bc43-812be69d257d"
      },
      "execution_count": null,
      "outputs": [
        {
          "output_type": "stream",
          "name": "stdout",
          "text": [
            "[True, False, 'ABCD', 123456789, 'Fourth', 'Fourth', 'Fourth', 34234.4342, 'This is list data', (45+6j), 10101, 'false', 12, 'Helloguys']\n"
          ]
        }
      ]
    },
    {
      "cell_type": "code",
      "source": [
        "list1.count(False)"
      ],
      "metadata": {
        "colab": {
          "base_uri": "https://localhost:8080/"
        },
        "id": "mjnroBCF61vP",
        "outputId": "ae66fee0-dd68-4149-b0cc-f7f77f473eac"
      },
      "execution_count": null,
      "outputs": [
        {
          "output_type": "execute_result",
          "data": {
            "text/plain": [
              "1"
            ]
          },
          "metadata": {},
          "execution_count": 55
        }
      ]
    },
    {
      "cell_type": "code",
      "source": [
        "list1.count('nice')"
      ],
      "metadata": {
        "colab": {
          "base_uri": "https://localhost:8080/"
        },
        "id": "PcrsJQDN7elN",
        "outputId": "cf07da60-0a1f-4306-db40-220733abc296"
      },
      "execution_count": null,
      "outputs": [
        {
          "output_type": "execute_result",
          "data": {
            "text/plain": [
              "0"
            ]
          },
          "metadata": {},
          "execution_count": 56
        }
      ]
    },
    {
      "cell_type": "code",
      "source": [
        "# deep copy or copy by reference\n",
        "list_2 = list1\n",
        "print(list_2)"
      ],
      "metadata": {
        "colab": {
          "base_uri": "https://localhost:8080/"
        },
        "id": "2_z-ynaH7iF7",
        "outputId": "c1a7c51d-38f9-4b56-9f8b-7c8bb992017d"
      },
      "execution_count": null,
      "outputs": [
        {
          "output_type": "stream",
          "name": "stdout",
          "text": [
            "[True, False, 'ABCD', 123456789, 'Fourth', 'Fourth', 'Fourth', 34234.4342, 'This is list data', (45+6j), 10101, 'false', 12, 'Helloguys']\n"
          ]
        }
      ]
    },
    {
      "cell_type": "code",
      "source": [
        "# shallow copy - copy values and saves in new variable\n",
        "list_3 = list1.copy()\n",
        "print(list_3)"
      ],
      "metadata": {
        "colab": {
          "base_uri": "https://localhost:8080/"
        },
        "id": "Aq0udUFO7rHF",
        "outputId": "4c569c06-f0e7-42c3-fedc-e168751d2aa9"
      },
      "execution_count": null,
      "outputs": [
        {
          "output_type": "stream",
          "name": "stdout",
          "text": [
            "[True, False, 'ABCD', 123456789, 'Fourth', 'Fourth', 'Fourth', 34234.4342, 'This is list data', (45+6j), 10101, 'false', 12, 'Helloguys', 'new item']\n"
          ]
        }
      ]
    },
    {
      "cell_type": "code",
      "source": [
        "list1.append('new item')"
      ],
      "metadata": {
        "id": "vJAC9HRt8NAE"
      },
      "execution_count": null,
      "outputs": []
    },
    {
      "cell_type": "code",
      "source": [
        "print(list_2)\n",
        "print(list_3)"
      ],
      "metadata": {
        "colab": {
          "base_uri": "https://localhost:8080/"
        },
        "id": "mxv5Ss0n8VUA",
        "outputId": "d23689c1-258c-4d56-d8f9-d8011ef6b37a"
      },
      "execution_count": null,
      "outputs": [
        {
          "output_type": "stream",
          "name": "stdout",
          "text": [
            "[True, False, 'ABCD', 123456789, 'Fourth', 'Fourth', 'Fourth', 34234.4342, 'This is list data', (45+6j), 10101, 'false', 12, 'Helloguys', 'new item', 'new item']\n",
            "[True, False, 'ABCD', 123456789, 'Fourth', 'Fourth', 'Fourth', 34234.4342, 'This is list data', (45+6j), 10101, 'false', 12, 'Helloguys', 'new item']\n"
          ]
        }
      ]
    },
    {
      "cell_type": "code",
      "source": [
        "list1.pop()"
      ],
      "metadata": {
        "colab": {
          "base_uri": "https://localhost:8080/",
          "height": 35
        },
        "id": "f79aGZnT8aKe",
        "outputId": "1c69c5ff-f56b-4769-b546-2aca3541b997"
      },
      "execution_count": null,
      "outputs": [
        {
          "output_type": "execute_result",
          "data": {
            "text/plain": [
              "'new item'"
            ],
            "application/vnd.google.colaboratory.intrinsic+json": {
              "type": "string"
            }
          },
          "metadata": {},
          "execution_count": 70
        }
      ]
    },
    {
      "cell_type": "code",
      "source": [
        "print(list1)"
      ],
      "metadata": {
        "colab": {
          "base_uri": "https://localhost:8080/"
        },
        "id": "qiG7GL7v9aAj",
        "outputId": "9b7d2496-bee2-4419-edf1-f8f8ced79145"
      },
      "execution_count": null,
      "outputs": [
        {
          "output_type": "stream",
          "name": "stdout",
          "text": [
            "[True, False, 'ABCD', 123456789, 'Fourth', 'Fourth', 'Fourth', 34234.4342, 'This is list data', (45+6j), 10101, 'false', 12, 'Helloguys', 'new item']\n"
          ]
        }
      ]
    },
    {
      "cell_type": "code",
      "source": [
        "print(list_2)\n",
        "print(list_3.pop())\n"
      ],
      "metadata": {
        "colab": {
          "base_uri": "https://localhost:8080/"
        },
        "id": "-Xy8G3ni9eMi",
        "outputId": "5c508d24-1e77-4426-d99b-d68cc73bdf27"
      },
      "execution_count": null,
      "outputs": [
        {
          "output_type": "stream",
          "name": "stdout",
          "text": [
            "[True, False, 'ABCD', 123456789, 'Fourth', 'Fourth', 'Fourth', 34234.4342, 'This is list data', (45+6j), 10101, 'false', 12, 'Helloguys', 'new item']\n",
            "new item\n"
          ]
        }
      ]
    },
    {
      "cell_type": "code",
      "source": [
        "A = {1,2,3,4,5,6,7,6,5,2}\n",
        "B = {4,5,6,9,11,12,10}\n",
        "C = {7,8,9,11,12,13,15}"
      ],
      "metadata": {
        "id": "Tibfzl2n9j61"
      },
      "execution_count": null,
      "outputs": []
    },
    {
      "cell_type": "code",
      "source": [
        "print(A)"
      ],
      "metadata": {
        "colab": {
          "base_uri": "https://localhost:8080/"
        },
        "id": "j8T0nHVGjIYO",
        "outputId": "a9282adb-49f4-498a-b4ab-e9ceb4c26ccf"
      },
      "execution_count": null,
      "outputs": [
        {
          "output_type": "stream",
          "name": "stdout",
          "text": [
            "{1, 2, 3, 4, 5, 6, 7}\n"
          ]
        }
      ]
    },
    {
      "cell_type": "code",
      "source": [
        "myset_1 = {'one', 'two', 'three', 'four', 'five', 'six', 'seven'}\n",
        "myset_1"
      ],
      "metadata": {
        "colab": {
          "base_uri": "https://localhost:8080/"
        },
        "id": "gEXu5FnPjJSX",
        "outputId": "1114cfa0-7c49-461b-a989-1928c09fbbc6"
      },
      "execution_count": null,
      "outputs": [
        {
          "output_type": "execute_result",
          "data": {
            "text/plain": [
              "{'five', 'four', 'one', 'seven', 'six', 'three', 'two'}"
            ]
          },
          "metadata": {},
          "execution_count": 8
        }
      ]
    },
    {
      "cell_type": "code",
      "source": [
        "myset_1.add('nine')\n",
        "myset_1"
      ],
      "metadata": {
        "colab": {
          "base_uri": "https://localhost:8080/"
        },
        "id": "inKKzKyZjVwA",
        "outputId": "8185ebc0-32a5-490a-94c4-8de94440a1fb"
      },
      "execution_count": null,
      "outputs": [
        {
          "output_type": "execute_result",
          "data": {
            "text/plain": [
              "{'five', 'four', 'nine', 'one', 'seven', 'six', 'three', 'two'}"
            ]
          },
          "metadata": {},
          "execution_count": 9
        }
      ]
    },
    {
      "cell_type": "code",
      "source": [
        "myset_1.update(['eleven', 'twelve', 'ten'])\n",
        "print(myset_1)"
      ],
      "metadata": {
        "colab": {
          "base_uri": "https://localhost:8080/"
        },
        "id": "SJbZJC7NjeLB",
        "outputId": "c95cbed0-accc-49fa-fbec-2baacf1a3b01"
      },
      "execution_count": null,
      "outputs": [
        {
          "output_type": "stream",
          "name": "stdout",
          "text": [
            "{'ten', 'eleven', 'twelve', 'six', 'two', 'seven', 'five', 'three', 'one', 'four', 'nine'}\n"
          ]
        }
      ]
    },
    {
      "cell_type": "markdown",
      "source": [
        "#### Dictionary"
      ],
      "metadata": {
        "id": "Wf6UyY9PpRyx"
      }
    },
    {
      "cell_type": "code",
      "source": [
        "\n",
        "mydict = dict()\n",
        "mydict = {}"
      ],
      "metadata": {
        "id": "dzI0zVsKjnaj"
      },
      "execution_count": null,
      "outputs": []
    },
    {
      "cell_type": "code",
      "source": [
        "mydict = dict([(1,'One'),(2,'Two'),(3,'Three'),(4,'Four'),(5,'five'),(7,'seven')])\n",
        "mydict"
      ],
      "metadata": {
        "colab": {
          "base_uri": "https://localhost:8080/"
        },
        "id": "ILw4Q5vWkWPn",
        "outputId": "7a1e3e3c-b6fc-47b5-b5fd-fef8c507e204"
      },
      "execution_count": null,
      "outputs": [
        {
          "output_type": "execute_result",
          "data": {
            "text/plain": [
              "{1: 'One', 2: 'Two', 3: 'Three', 4: 'Four', 5: 'five', 7: 'seven'}"
            ]
          },
          "metadata": {},
          "execution_count": 13
        }
      ]
    },
    {
      "cell_type": "code",
      "source": [
        "# Nested Dictionary\n",
        "details = {'name':'Amit', 'contact':9747805479, 'email': 'prakashroy1211@gmail.com', 'address': {'city':['Delhi', 'Bangaluru','Hyderabad']}}\n",
        "details"
      ],
      "metadata": {
        "colab": {
          "base_uri": "https://localhost:8080/"
        },
        "id": "R29OXE0Sks25",
        "outputId": "fc5af124-3503-440c-9a86-4fdf1a3f2e18"
      },
      "execution_count": null,
      "outputs": [
        {
          "output_type": "execute_result",
          "data": {
            "text/plain": [
              "{'name': 'Amit',\n",
              " 'contact': 9747805479,\n",
              " 'email': 'prakashroy1211@gmail.com',\n",
              " 'address': {'city': ['Delhi', 'Bangaluru', 'Hyderabad']}}"
            ]
          },
          "metadata": {},
          "execution_count": 14
        }
      ]
    },
    {
      "cell_type": "code",
      "source": [
        "# To access values use keys\n",
        "details ['name']"
      ],
      "metadata": {
        "colab": {
          "base_uri": "https://localhost:8080/",
          "height": 35
        },
        "id": "WtyRNYNzlqtb",
        "outputId": "e0e3095d-0d64-477f-f5fb-68c34f1d861c"
      },
      "execution_count": null,
      "outputs": [
        {
          "output_type": "execute_result",
          "data": {
            "text/plain": [
              "'Amit'"
            ],
            "application/vnd.google.colaboratory.intrinsic+json": {
              "type": "string"
            }
          },
          "metadata": {},
          "execution_count": 15
        }
      ]
    },
    {
      "cell_type": "code",
      "source": [
        "details['address']['city']"
      ],
      "metadata": {
        "colab": {
          "base_uri": "https://localhost:8080/"
        },
        "id": "IgIOQg3YnJSj",
        "outputId": "6d385534-9832-43ca-8c83-72f79a6f33cd"
      },
      "execution_count": null,
      "outputs": [
        {
          "output_type": "execute_result",
          "data": {
            "text/plain": [
              "['Delhi', 'Bangaluru', 'Hyderabad']"
            ]
          },
          "metadata": {},
          "execution_count": 19
        }
      ]
    },
    {
      "cell_type": "code",
      "source": [
        "details['DOB'] = 1995"
      ],
      "metadata": {
        "id": "fFLn0Q4ynNbt"
      },
      "execution_count": null,
      "outputs": []
    },
    {
      "cell_type": "code",
      "source": [
        "details"
      ],
      "metadata": {
        "colab": {
          "base_uri": "https://localhost:8080/"
        },
        "id": "bglhmh7qnaeQ",
        "outputId": "644cdce1-903a-4ee1-cdaf-36ad3768585c"
      },
      "execution_count": null,
      "outputs": [
        {
          "output_type": "execute_result",
          "data": {
            "text/plain": [
              "{'name': 'Amit',\n",
              " 'contact': 9747805479,\n",
              " 'email': 'prakashroy1211@gmail.com',\n",
              " 'address': {'city': ['Delhi', 'Bangaluru', 'Hyderabad']},\n",
              " 'DOB': 1995}"
            ]
          },
          "metadata": {},
          "execution_count": 21
        }
      ]
    },
    {
      "cell_type": "code",
      "source": [
        "dict_1 = {'Department':'Finance', 'Salary': 75000}"
      ],
      "metadata": {
        "id": "OgFNist9nbii"
      },
      "execution_count": null,
      "outputs": []
    },
    {
      "cell_type": "code",
      "source": [
        "details.update(dict_1)"
      ],
      "metadata": {
        "id": "J9yXJ6HPoLHL"
      },
      "execution_count": null,
      "outputs": []
    },
    {
      "cell_type": "code",
      "source": [
        "print(details)"
      ],
      "metadata": {
        "colab": {
          "base_uri": "https://localhost:8080/"
        },
        "id": "jOVI8TKsoOcE",
        "outputId": "dea680f0-e505-4efb-e6e4-34cc2103914e"
      },
      "execution_count": null,
      "outputs": [
        {
          "output_type": "stream",
          "name": "stdout",
          "text": [
            "{'name': 'Amit', 'contact': 9747805479, 'email': 'prakashroy1211@gmail.com', 'address': {'city': ['Delhi', 'Bangaluru', 'Hyderabad']}, 'DOB': 1995, 'Department': 'Finance', 'Salary': 75000}\n"
          ]
        }
      ]
    },
    {
      "cell_type": "markdown",
      "source": [
        "#### Index and slicing\n"
      ],
      "metadata": {
        "id": "TDpINs2WpEYM"
      }
    },
    {
      "cell_type": "code",
      "source": [
        "list1 = [True, False, 123, 12.34, 'Prakash', 'This is a sentance']\n",
        "print(list1)"
      ],
      "metadata": {
        "colab": {
          "base_uri": "https://localhost:8080/"
        },
        "id": "lwoYoJBeo_0F",
        "outputId": "35a25161-20eb-419d-ee40-565650ed1471"
      },
      "execution_count": null,
      "outputs": [
        {
          "output_type": "stream",
          "name": "stdout",
          "text": [
            "[True, False, 123, 12.34, 'Prakash', 'This is a sentance']\n"
          ]
        }
      ]
    },
    {
      "cell_type": "code",
      "source": [
        "print(list1[5])"
      ],
      "metadata": {
        "colab": {
          "base_uri": "https://localhost:8080/"
        },
        "id": "DDq4WovjpZgz",
        "outputId": "015582d2-1f33-4e20-f8e5-5fc7aabb98fa"
      },
      "execution_count": null,
      "outputs": [
        {
          "output_type": "stream",
          "name": "stdout",
          "text": [
            "This is a sentance\n"
          ]
        }
      ]
    },
    {
      "cell_type": "code",
      "source": [
        "# start index = 0, end index = n-1\n",
        "# slicing start value = 0, end value = 4\n",
        "list1[0:5]"
      ],
      "metadata": {
        "colab": {
          "base_uri": "https://localhost:8080/"
        },
        "id": "-6IhRvr4p1Qs",
        "outputId": "bf00a65c-8b42-4b69-84cf-cb20ba99ee94"
      },
      "execution_count": null,
      "outputs": [
        {
          "output_type": "execute_result",
          "data": {
            "text/plain": [
              "[True, False, 123, 12.34, 'Prakash']"
            ]
          },
          "metadata": {},
          "execution_count": 38
        }
      ]
    },
    {
      "cell_type": "code",
      "source": [
        "# start index = 0, end index = n-1, step size = 1 (By Default)\n",
        "# It displays every alternative values\n",
        "list1[:6:2]"
      ],
      "metadata": {
        "colab": {
          "base_uri": "https://localhost:8080/"
        },
        "id": "t_1wQHy4p9Qf",
        "outputId": "70d2f899-7e45-4c37-da16-8b2239c5948f"
      },
      "execution_count": null,
      "outputs": [
        {
          "output_type": "execute_result",
          "data": {
            "text/plain": [
              "[True, 123, 'Prakash']"
            ]
          },
          "metadata": {},
          "execution_count": 41
        }
      ]
    },
    {
      "cell_type": "code",
      "source": [
        "# It will display last 5 elements using backward indexing\n",
        "list1[-6:]"
      ],
      "metadata": {
        "colab": {
          "base_uri": "https://localhost:8080/"
        },
        "id": "Ao0CjrHgrzPT",
        "outputId": "af23db6e-7a78-4bbf-d094-2fb36f90e7a4"
      },
      "execution_count": null,
      "outputs": [
        {
          "output_type": "execute_result",
          "data": {
            "text/plain": [
              "[True, False, 123, 12.34, 'Prakash', 'This is a sentance']"
            ]
          },
          "metadata": {},
          "execution_count": 43
        }
      ]
    },
    {
      "cell_type": "code",
      "source": [
        "# How to reverse a list using indexing\n",
        "list1[::-1]"
      ],
      "metadata": {
        "colab": {
          "base_uri": "https://localhost:8080/"
        },
        "id": "_txuvN8zsCH0",
        "outputId": "937c8da4-8d9e-4f68-a608-b6b13ed23cda"
      },
      "execution_count": null,
      "outputs": [
        {
          "output_type": "execute_result",
          "data": {
            "text/plain": [
              "['This is a sentance', 'Prakash', 12.34, 123, False, True]"
            ]
          },
          "metadata": {},
          "execution_count": 49
        }
      ]
    },
    {
      "cell_type": "markdown",
      "source": [
        "#### Arithmetic Operations"
      ],
      "metadata": {
        "id": "oHuSdqbrshxy"
      }
    },
    {
      "cell_type": "code",
      "source": [
        "a = 27\n",
        "b = 10\n",
        "print(a+b)\n",
        "print(a-b)\n",
        "print(a/b)\n",
        "print(a*b)\n",
        "print(a**b)\n",
        "print(a//b)\n",
        "print(a%b)"
      ],
      "metadata": {
        "colab": {
          "base_uri": "https://localhost:8080/"
        },
        "id": "B279k4ZUsb0v",
        "outputId": "27f1d14c-7701-4791-9158-6ee8416d9f35"
      },
      "execution_count": null,
      "outputs": [
        {
          "output_type": "stream",
          "name": "stdout",
          "text": [
            "37\n",
            "17\n",
            "2.7\n",
            "270\n",
            "205891132094649\n",
            "2\n",
            "7\n"
          ]
        }
      ]
    },
    {
      "cell_type": "markdown",
      "source": [
        "### Comparison Operator"
      ],
      "metadata": {
        "id": "_9ZxBMqQs5LG"
      }
    },
    {
      "cell_type": "code",
      "source": [
        "print(a==b)\n",
        "print(a<b)\n",
        "print(a!=b)\n",
        "print(a>b)\n",
        "print(a<=b)\n",
        "print(a>=b)"
      ],
      "metadata": {
        "colab": {
          "base_uri": "https://localhost:8080/"
        },
        "id": "8FaiXbC-sx5_",
        "outputId": "e87d5c7b-d49f-49b0-e5f8-ebde08efe11e"
      },
      "execution_count": null,
      "outputs": [
        {
          "output_type": "stream",
          "name": "stdout",
          "text": [
            "False\n",
            "False\n",
            "True\n",
            "True\n",
            "False\n",
            "True\n"
          ]
        }
      ]
    },
    {
      "cell_type": "markdown",
      "source": [
        "#### Control Flow"
      ],
      "metadata": {
        "id": "Y-o_Km_5tvrB"
      }
    },
    {
      "cell_type": "code",
      "source": [
        "num = 14\n",
        "if num < 15:\n",
        "  print('The number is less than 15')\n",
        "  print('This print statement is inside if statement')\n",
        "  print()\n",
        "\n",
        "# Default print() statement\n",
        "print('Outside if block')"
      ],
      "metadata": {
        "colab": {
          "base_uri": "https://localhost:8080/"
        },
        "id": "ssdBZwIUtgAE",
        "outputId": "b06a1766-a684-41c2-e325-0caaf08070e7"
      },
      "execution_count": null,
      "outputs": [
        {
          "output_type": "stream",
          "name": "stdout",
          "text": [
            "The number is less than 15\n",
            "This print statement is inside if statement\n",
            "\n",
            "Outside if block\n"
          ]
        }
      ]
    },
    {
      "cell_type": "code",
      "source": [
        "age = 30\n",
        "if age < 18:\n",
        "  print('Teenager')\n",
        "elif age >= 18 and age <= 30:\n",
        "  print('Young')\n",
        "elif age >= 31 and age <= 55:\n",
        "  print('Middle Aged')\n",
        "else:\n",
        "  print('Old')"
      ],
      "metadata": {
        "colab": {
          "base_uri": "https://localhost:8080/"
        },
        "id": "W3d5_lFku74f",
        "outputId": "1630224d-6c5d-4588-a303-4d1e09c02995"
      },
      "execution_count": null,
      "outputs": [
        {
          "output_type": "stream",
          "name": "stdout",
          "text": [
            "Young\n"
          ]
        }
      ]
    },
    {
      "cell_type": "markdown",
      "source": [
        "#### While Loop"
      ],
      "metadata": {
        "id": "BH98v63xwmYG"
      }
    },
    {
      "cell_type": "code",
      "source": [
        "mylist = [10,20,30,40,50,60,70,80,90]\n",
        "\n",
        "add_num = 0\n",
        "index = 0\n",
        "while index < len(mylist):\n",
        "  add_num += mylist[index]\n",
        "  index += 1\n",
        "print('Sum of List is {}'.format(add_num))"
      ],
      "metadata": {
        "colab": {
          "base_uri": "https://localhost:8080/"
        },
        "id": "XvlVau4hwjIo",
        "outputId": "ca980e84-4a92-46ff-c3fd-fc13badf3e35"
      },
      "execution_count": null,
      "outputs": [
        {
          "output_type": "stream",
          "name": "stdout",
          "text": [
            "Sum of List is 450\n"
          ]
        }
      ]
    },
    {
      "cell_type": "markdown",
      "source": [
        "#### For Loop"
      ],
      "metadata": {
        "id": "JIlDMOwfxqoz"
      }
    },
    {
      "cell_type": "code",
      "source": [
        "mylist = [10,20,30,40,50,60,70,80]\n",
        "\n",
        "add_num = 0\n",
        "\n",
        "for element in mylist:\n",
        "  add_num += element\n",
        "print('Sum of list is {}'.format(add_num))"
      ],
      "metadata": {
        "colab": {
          "base_uri": "https://localhost:8080/"
        },
        "id": "A8B3Q35IxFy6",
        "outputId": "a5eeae97-148c-4927-fdfa-244a00feb2d8"
      },
      "execution_count": null,
      "outputs": [
        {
          "output_type": "stream",
          "name": "stdout",
          "text": [
            "Sum of list is 360\n"
          ]
        }
      ]
    },
    {
      "cell_type": "code",
      "source": [
        "# WAP for login activity\n",
        "login_id = input('Enter login ID: ')\n",
        "login_pass = input('Enter login password: ')\n",
        "\n",
        "if login_id == 'abc@example.com' and login_pass == '12345678':\n",
        "  print('Login Successful')\n",
        "else:\n",
        "  print('User ID or Password is wrong. Try Again!')"
      ],
      "metadata": {
        "colab": {
          "base_uri": "https://localhost:8080/"
        },
        "id": "G6IP8GZtyTKH",
        "outputId": "b8cf597c-4816-4303-f109-38e9b21b62d0"
      },
      "execution_count": null,
      "outputs": [
        {
          "output_type": "stream",
          "name": "stdout",
          "text": [
            "Enter login ID: abc@example.com\n",
            "Enter login password: 12345678\n",
            "Login Successful\n"
          ]
        }
      ]
    },
    {
      "cell_type": "code",
      "source": [
        "# range\n",
        "for element in range(1,21):\n",
        "  print(element)"
      ],
      "metadata": {
        "colab": {
          "base_uri": "https://localhost:8080/"
        },
        "id": "CXxXsEgN0H_d",
        "outputId": "7282dd73-5b59-4686-b7d8-e52b6492b3af"
      },
      "execution_count": null,
      "outputs": [
        {
          "output_type": "stream",
          "name": "stdout",
          "text": [
            "1\n",
            "2\n",
            "3\n",
            "4\n",
            "5\n",
            "6\n",
            "7\n",
            "8\n",
            "9\n",
            "10\n",
            "11\n",
            "12\n",
            "13\n",
            "14\n",
            "15\n",
            "16\n",
            "17\n",
            "18\n",
            "19\n",
            "20\n"
          ]
        }
      ]
    },
    {
      "cell_type": "code",
      "source": [
        "for element in range(0,21,2):\n",
        "  print(element)"
      ],
      "metadata": {
        "colab": {
          "base_uri": "https://localhost:8080/"
        },
        "id": "B8NNuelA0brc",
        "outputId": "a0abb453-3661-473a-bf3c-d10c9f408fc1"
      },
      "execution_count": null,
      "outputs": [
        {
          "output_type": "stream",
          "name": "stdout",
          "text": [
            "0\n",
            "2\n",
            "4\n",
            "6\n",
            "8\n",
            "10\n",
            "12\n",
            "14\n",
            "16\n",
            "18\n",
            "20\n"
          ]
        }
      ]
    },
    {
      "cell_type": "markdown",
      "source": [
        "#### Functions\n"
      ],
      "metadata": {
        "id": "v1-_zI8B1Em5"
      }
    },
    {
      "cell_type": "code",
      "source": [
        "# Declaration\n",
        "\n",
        "def my_func():\n",
        "  print('Hello Pyhton Users!')"
      ],
      "metadata": {
        "id": "lJ15HILJ0o7U"
      },
      "execution_count": null,
      "outputs": []
    },
    {
      "cell_type": "code",
      "source": [
        "# call a funciton\n",
        "my_func()"
      ],
      "metadata": {
        "colab": {
          "base_uri": "https://localhost:8080/"
        },
        "id": "S7iB_YtW1h6Q",
        "outputId": "d668b1e9-4487-44a4-f039-9cd5e4fa3531"
      },
      "execution_count": null,
      "outputs": [
        {
          "output_type": "stream",
          "name": "stdout",
          "text": [
            "Hello Pyhton Users!\n"
          ]
        }
      ]
    },
    {
      "cell_type": "code",
      "source": [
        "# Function with an argument\n",
        "def greetings(name):\n",
        "  statement = 'Hello ' + name + ' Good Evening!'\n",
        "  return statement"
      ],
      "metadata": {
        "id": "1oi5Nn-z1ksi"
      },
      "execution_count": null,
      "outputs": []
    },
    {
      "cell_type": "code",
      "source": [
        "greetings('Prakash')"
      ],
      "metadata": {
        "colab": {
          "base_uri": "https://localhost:8080/",
          "height": 35
        },
        "id": "91lnq6mo2A6p",
        "outputId": "54f138f0-ed4b-4083-f3ee-e375ecc31c4d"
      },
      "execution_count": null,
      "outputs": [
        {
          "output_type": "execute_result",
          "data": {
            "text/plain": [
              "'Hello Prakash Good Evening!'"
            ],
            "application/vnd.google.colaboratory.intrinsic+json": {
              "type": "string"
            }
          },
          "metadata": {},
          "execution_count": 78
        }
      ]
    },
    {
      "cell_type": "code",
      "source": [],
      "metadata": {
        "id": "m9l1w_3x2E0i"
      },
      "execution_count": null,
      "outputs": []
    }
  ]
}