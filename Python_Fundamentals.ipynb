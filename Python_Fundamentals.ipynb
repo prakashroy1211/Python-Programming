{
  "nbformat": 4,
  "nbformat_minor": 0,
  "metadata": {
    "colab": {
      "provenance": [],
      "authorship_tag": "ABX9TyNdg8/bnmAXL3TEeVqzJiJJ",
      "include_colab_link": true
    },
    "kernelspec": {
      "name": "python3",
      "display_name": "Python 3"
    },
    "language_info": {
      "name": "python"
    }
  },
  "cells": [
    {
      "cell_type": "markdown",
      "metadata": {
        "id": "view-in-github",
        "colab_type": "text"
      },
      "source": [
        "<a href=\"https://colab.research.google.com/github/prakashroy1211/Python-Programming/blob/main/Python_Fundamentals.ipynb\" target=\"_parent\"><img src=\"https://colab.research.google.com/assets/colab-badge.svg\" alt=\"Open In Colab\"/></a>"
      ]
    },
    {
      "cell_type": "code",
      "execution_count": 79,
      "metadata": {
        "id": "EiPQiQRutpCV"
      },
      "outputs": [],
      "source": [
        "\n",
        "import numpy as np\n",
        "import pandas as pd\n",
        "import matplotlib.pyplot as plt\n"
      ]
    },
    {
      "cell_type": "markdown",
      "source": [
        "#### Comments and Hello World Program"
      ],
      "metadata": {
        "id": "VnIp8GPxuLdx"
      }
    },
    {
      "cell_type": "code",
      "source": [
        "\"\"\"\n",
        "hello\n",
        "asd\n",
        "asd\n",
        "asd\n",
        "\"\"\"\n",
        "print('Hello world')"
      ],
      "metadata": {
        "colab": {
          "base_uri": "https://localhost:8080/"
        },
        "id": "QwVPb8epvOdq",
        "outputId": "4769be43-a7dc-44e3-f49a-b991938541a2"
      },
      "execution_count": 80,
      "outputs": [
        {
          "output_type": "stream",
          "name": "stdout",
          "text": [
            "Hello world\n"
          ]
        }
      ]
    },
    {
      "cell_type": "markdown",
      "source": [
        "#### Strings"
      ],
      "metadata": {
        "id": "qXOtkOhYuGSG"
      }
    },
    {
      "cell_type": "code",
      "source": [
        "import keyword\n",
        "print(keyword.kwlist)"
      ],
      "metadata": {
        "colab": {
          "base_uri": "https://localhost:8080/"
        },
        "id": "guDPX0dlvSYM",
        "outputId": "cffefdff-8f5c-45ef-e881-a91e2a53292d"
      },
      "execution_count": 81,
      "outputs": [
        {
          "output_type": "stream",
          "name": "stdout",
          "text": [
            "['False', 'None', 'True', 'and', 'as', 'assert', 'async', 'await', 'break', 'class', 'continue', 'def', 'del', 'elif', 'else', 'except', 'finally', 'for', 'from', 'global', 'if', 'import', 'in', 'is', 'lambda', 'nonlocal', 'not', 'or', 'pass', 'raise', 'return', 'try', 'while', 'with', 'yield']\n"
          ]
        }
      ]
    },
    {
      "cell_type": "code",
      "source": [
        "len(keyword.kwlist)"
      ],
      "metadata": {
        "colab": {
          "base_uri": "https://localhost:8080/"
        },
        "id": "pBEgs9NsyY99",
        "outputId": "8b67ef39-8a7a-4c4c-a9e6-612a50cac98f"
      },
      "execution_count": 82,
      "outputs": [
        {
          "output_type": "execute_result",
          "data": {
            "text/plain": [
              "35"
            ]
          },
          "metadata": {},
          "execution_count": 82
        }
      ]
    },
    {
      "cell_type": "code",
      "source": [
        "str = 'Hello Guys Channel to my welcome'\n",
        "str.capitalize()"
      ],
      "metadata": {
        "colab": {
          "base_uri": "https://localhost:8080/",
          "height": 35
        },
        "id": "AkROmcESyod1",
        "outputId": "be23bee0-c8ed-453d-8870-4fba98ccbfd5"
      },
      "execution_count": 83,
      "outputs": [
        {
          "output_type": "execute_result",
          "data": {
            "text/plain": [
              "'Hello guys channel to my welcome'"
            ],
            "application/vnd.google.colaboratory.intrinsic+json": {
              "type": "string"
            }
          },
          "metadata": {},
          "execution_count": 83
        }
      ]
    },
    {
      "cell_type": "code",
      "source": [
        "str.lower()"
      ],
      "metadata": {
        "colab": {
          "base_uri": "https://localhost:8080/",
          "height": 35
        },
        "id": "hceEcV9C0y6X",
        "outputId": "69cac771-2fbc-4c7e-a7d2-405466464cbd"
      },
      "execution_count": 84,
      "outputs": [
        {
          "output_type": "execute_result",
          "data": {
            "text/plain": [
              "'hello guys channel to my welcome'"
            ],
            "application/vnd.google.colaboratory.intrinsic+json": {
              "type": "string"
            }
          },
          "metadata": {},
          "execution_count": 84
        }
      ]
    },
    {
      "cell_type": "code",
      "source": [
        "str.upper()"
      ],
      "metadata": {
        "colab": {
          "base_uri": "https://localhost:8080/",
          "height": 35
        },
        "id": "jOFymkOn03mV",
        "outputId": "e21b8b74-e973-4a6b-afd9-73d8e0829549"
      },
      "execution_count": 85,
      "outputs": [
        {
          "output_type": "execute_result",
          "data": {
            "text/plain": [
              "'HELLO GUYS CHANNEL TO MY WELCOME'"
            ],
            "application/vnd.google.colaboratory.intrinsic+json": {
              "type": "string"
            }
          },
          "metadata": {},
          "execution_count": 85
        }
      ]
    },
    {
      "cell_type": "code",
      "source": [
        "str.index('Guys')"
      ],
      "metadata": {
        "colab": {
          "base_uri": "https://localhost:8080/"
        },
        "id": "zXRUdbF304-W",
        "outputId": "80b6f917-0e86-403c-e4f8-21afbdf99544"
      },
      "execution_count": 86,
      "outputs": [
        {
          "output_type": "execute_result",
          "data": {
            "text/plain": [
              "6"
            ]
          },
          "metadata": {},
          "execution_count": 86
        }
      ]
    },
    {
      "cell_type": "code",
      "source": [
        "str.find('to')"
      ],
      "metadata": {
        "colab": {
          "base_uri": "https://localhost:8080/"
        },
        "id": "SdW4KspH078j",
        "outputId": "2d2ffeab-7de8-44a9-9dbb-bc06825e618d"
      },
      "execution_count": 87,
      "outputs": [
        {
          "output_type": "execute_result",
          "data": {
            "text/plain": [
              "19"
            ]
          },
          "metadata": {},
          "execution_count": 87
        }
      ]
    },
    {
      "cell_type": "code",
      "source": [
        "str.replace(\" \", \",\")"
      ],
      "metadata": {
        "colab": {
          "base_uri": "https://localhost:8080/",
          "height": 35
        },
        "id": "EPTIzhNE1Y2z",
        "outputId": "4e068024-4f7d-4da1-a8f2-53781f6b780f"
      },
      "execution_count": 88,
      "outputs": [
        {
          "output_type": "execute_result",
          "data": {
            "text/plain": [
              "'Hello,Guys,Channel,to,my,welcome'"
            ],
            "application/vnd.google.colaboratory.intrinsic+json": {
              "type": "string"
            }
          },
          "metadata": {},
          "execution_count": 88
        }
      ]
    },
    {
      "cell_type": "code",
      "source": [
        "str"
      ],
      "metadata": {
        "colab": {
          "base_uri": "https://localhost:8080/",
          "height": 35
        },
        "id": "dGgw8uEX1pUx",
        "outputId": "9ea7bd01-0eae-46cf-83b4-5b2321ffc63c"
      },
      "execution_count": 89,
      "outputs": [
        {
          "output_type": "execute_result",
          "data": {
            "text/plain": [
              "'Hello Guys Channel to my welcome'"
            ],
            "application/vnd.google.colaboratory.intrinsic+json": {
              "type": "string"
            }
          },
          "metadata": {},
          "execution_count": 89
        }
      ]
    },
    {
      "cell_type": "code",
      "source": [
        "str.split(' ')"
      ],
      "metadata": {
        "colab": {
          "base_uri": "https://localhost:8080/"
        },
        "id": "T19-Wu2Y1tfL",
        "outputId": "61c86f89-8968-4ac8-d8c1-aa31af3e2e2c"
      },
      "execution_count": 90,
      "outputs": [
        {
          "output_type": "execute_result",
          "data": {
            "text/plain": [
              "['Hello', 'Guys', 'Channel', 'to', 'my', 'welcome']"
            ]
          },
          "metadata": {},
          "execution_count": 90
        }
      ]
    },
    {
      "cell_type": "markdown",
      "source": [
        "#### Lists"
      ],
      "metadata": {
        "id": "dZTwDNSLuBXX"
      }
    },
    {
      "cell_type": "code",
      "source": [
        "list1=[]\n",
        "list1=list()"
      ],
      "metadata": {
        "id": "5K_ij7pH14tt"
      },
      "execution_count": 91,
      "outputs": []
    },
    {
      "cell_type": "code",
      "source": [
        "list1 = [True, False, 'ABCD', 123456789, 34234.4342, 'This is list data', 45 + 6j]"
      ],
      "metadata": {
        "id": "e_L-vVvr3d6Z"
      },
      "execution_count": 92,
      "outputs": []
    },
    {
      "cell_type": "code",
      "source": [
        "list1"
      ],
      "metadata": {
        "colab": {
          "base_uri": "https://localhost:8080/"
        },
        "id": "N5ss8-lu3wRw",
        "outputId": "029e4739-26bd-4bb9-f275-e9414fc5127a"
      },
      "execution_count": 93,
      "outputs": [
        {
          "output_type": "execute_result",
          "data": {
            "text/plain": [
              "[True, False, 'ABCD', 123456789, 34234.4342, 'This is list data', (45+6j)]"
            ]
          },
          "metadata": {},
          "execution_count": 93
        }
      ]
    },
    {
      "cell_type": "code",
      "source": [
        "list1.append(10101)"
      ],
      "metadata": {
        "id": "z8T3bdKf3x3n"
      },
      "execution_count": 94,
      "outputs": []
    },
    {
      "cell_type": "code",
      "source": [
        "list1"
      ],
      "metadata": {
        "colab": {
          "base_uri": "https://localhost:8080/"
        },
        "id": "mW38ZR5k30rl",
        "outputId": "fc643794-7ccf-47f1-caae-eb71ab2a30e0"
      },
      "execution_count": 95,
      "outputs": [
        {
          "output_type": "execute_result",
          "data": {
            "text/plain": [
              "[True,\n",
              " False,\n",
              " 'ABCD',\n",
              " 123456789,\n",
              " 34234.4342,\n",
              " 'This is list data',\n",
              " (45+6j),\n",
              " 10101]"
            ]
          },
          "metadata": {},
          "execution_count": 95
        }
      ]
    },
    {
      "cell_type": "code",
      "source": [
        "list1[3]"
      ],
      "metadata": {
        "colab": {
          "base_uri": "https://localhost:8080/"
        },
        "id": "sfZGpWMR31hH",
        "outputId": "cb745468-c7ca-4514-d7bd-8a5f70898be9"
      },
      "execution_count": 96,
      "outputs": [
        {
          "output_type": "execute_result",
          "data": {
            "text/plain": [
              "123456789"
            ]
          },
          "metadata": {},
          "execution_count": 96
        }
      ]
    },
    {
      "cell_type": "code",
      "source": [
        "list1.extend(['false', 12, 'Helloguys'])\n",
        "print(list1)"
      ],
      "metadata": {
        "colab": {
          "base_uri": "https://localhost:8080/"
        },
        "id": "_uVC86Qz4VzT",
        "outputId": "9a5efebe-d315-4965-94fa-3b210a238c7f"
      },
      "execution_count": 97,
      "outputs": [
        {
          "output_type": "stream",
          "name": "stdout",
          "text": [
            "[True, False, 'ABCD', 123456789, 34234.4342, 'This is list data', (45+6j), 10101, 'false', 12, 'Helloguys']\n"
          ]
        }
      ]
    },
    {
      "cell_type": "code",
      "source": [
        "list1.insert(4,'Fourth')\n",
        "print(list1)"
      ],
      "metadata": {
        "colab": {
          "base_uri": "https://localhost:8080/"
        },
        "id": "C6rPSMxS6KD3",
        "outputId": "63783dd6-825d-4715-a975-62310554bf4c"
      },
      "execution_count": 98,
      "outputs": [
        {
          "output_type": "stream",
          "name": "stdout",
          "text": [
            "[True, False, 'ABCD', 123456789, 'Fourth', 34234.4342, 'This is list data', (45+6j), 10101, 'false', 12, 'Helloguys']\n"
          ]
        }
      ]
    },
    {
      "cell_type": "code",
      "source": [
        "list1.count(False)"
      ],
      "metadata": {
        "colab": {
          "base_uri": "https://localhost:8080/"
        },
        "id": "mjnroBCF61vP",
        "outputId": "5dfb73e8-420b-4fc6-930b-9f010d094811"
      },
      "execution_count": 99,
      "outputs": [
        {
          "output_type": "execute_result",
          "data": {
            "text/plain": [
              "1"
            ]
          },
          "metadata": {},
          "execution_count": 99
        }
      ]
    },
    {
      "cell_type": "code",
      "source": [
        "list1.count('nice')"
      ],
      "metadata": {
        "colab": {
          "base_uri": "https://localhost:8080/"
        },
        "id": "PcrsJQDN7elN",
        "outputId": "41c808c1-c05e-4afc-c653-ee03da383b10"
      },
      "execution_count": 100,
      "outputs": [
        {
          "output_type": "execute_result",
          "data": {
            "text/plain": [
              "0"
            ]
          },
          "metadata": {},
          "execution_count": 100
        }
      ]
    },
    {
      "cell_type": "code",
      "source": [
        "# deep copy or copy by reference\n",
        "list_2 = list1\n",
        "print(list_2)"
      ],
      "metadata": {
        "colab": {
          "base_uri": "https://localhost:8080/"
        },
        "id": "2_z-ynaH7iF7",
        "outputId": "e265e584-36ea-4438-f047-3d8ca8c52e23"
      },
      "execution_count": 101,
      "outputs": [
        {
          "output_type": "stream",
          "name": "stdout",
          "text": [
            "[True, False, 'ABCD', 123456789, 'Fourth', 34234.4342, 'This is list data', (45+6j), 10101, 'false', 12, 'Helloguys']\n"
          ]
        }
      ]
    },
    {
      "cell_type": "code",
      "source": [
        "# shallow copy - copy values and saves in new variable\n",
        "list_3 = list1.copy()\n",
        "print(list_3)"
      ],
      "metadata": {
        "colab": {
          "base_uri": "https://localhost:8080/"
        },
        "id": "Aq0udUFO7rHF",
        "outputId": "cf069824-4969-4ded-94bb-c748b99339a0"
      },
      "execution_count": 102,
      "outputs": [
        {
          "output_type": "stream",
          "name": "stdout",
          "text": [
            "[True, False, 'ABCD', 123456789, 'Fourth', 34234.4342, 'This is list data', (45+6j), 10101, 'false', 12, 'Helloguys']\n"
          ]
        }
      ]
    },
    {
      "cell_type": "code",
      "source": [
        "list1.append('new item')"
      ],
      "metadata": {
        "id": "vJAC9HRt8NAE"
      },
      "execution_count": 103,
      "outputs": []
    },
    {
      "cell_type": "code",
      "source": [
        "print(list_2)\n",
        "print(list_3)"
      ],
      "metadata": {
        "colab": {
          "base_uri": "https://localhost:8080/"
        },
        "id": "mxv5Ss0n8VUA",
        "outputId": "ef193ec0-a38c-408c-f840-db9c565a31a0"
      },
      "execution_count": 104,
      "outputs": [
        {
          "output_type": "stream",
          "name": "stdout",
          "text": [
            "[True, False, 'ABCD', 123456789, 'Fourth', 34234.4342, 'This is list data', (45+6j), 10101, 'false', 12, 'Helloguys', 'new item']\n",
            "[True, False, 'ABCD', 123456789, 'Fourth', 34234.4342, 'This is list data', (45+6j), 10101, 'false', 12, 'Helloguys']\n"
          ]
        }
      ]
    },
    {
      "cell_type": "code",
      "source": [
        "list1.pop()"
      ],
      "metadata": {
        "colab": {
          "base_uri": "https://localhost:8080/",
          "height": 35
        },
        "id": "f79aGZnT8aKe",
        "outputId": "0337b5ce-6b05-4411-c28b-a98801f837fd"
      },
      "execution_count": 105,
      "outputs": [
        {
          "output_type": "execute_result",
          "data": {
            "text/plain": [
              "'new item'"
            ],
            "application/vnd.google.colaboratory.intrinsic+json": {
              "type": "string"
            }
          },
          "metadata": {},
          "execution_count": 105
        }
      ]
    },
    {
      "cell_type": "code",
      "source": [
        "print(list1)"
      ],
      "metadata": {
        "colab": {
          "base_uri": "https://localhost:8080/"
        },
        "id": "qiG7GL7v9aAj",
        "outputId": "23321761-18a3-459a-ddfa-eae94cf08812"
      },
      "execution_count": 106,
      "outputs": [
        {
          "output_type": "stream",
          "name": "stdout",
          "text": [
            "[True, False, 'ABCD', 123456789, 'Fourth', 34234.4342, 'This is list data', (45+6j), 10101, 'false', 12, 'Helloguys']\n"
          ]
        }
      ]
    },
    {
      "cell_type": "code",
      "source": [
        "print(list_2)\n",
        "print(list_3.pop())\n"
      ],
      "metadata": {
        "colab": {
          "base_uri": "https://localhost:8080/"
        },
        "id": "-Xy8G3ni9eMi",
        "outputId": "6f068e7c-40ec-4ea2-bb5c-b9af1801c54c"
      },
      "execution_count": 107,
      "outputs": [
        {
          "output_type": "stream",
          "name": "stdout",
          "text": [
            "[True, False, 'ABCD', 123456789, 'Fourth', 34234.4342, 'This is list data', (45+6j), 10101, 'false', 12, 'Helloguys']\n",
            "Helloguys\n"
          ]
        }
      ]
    },
    {
      "cell_type": "code",
      "source": [
        "A = {1,2,3,4,5,6,7,6,5,2}\n",
        "B = {4,5,6,9,11,12,10}\n",
        "C = {7,8,9,11,12,13,15}"
      ],
      "metadata": {
        "id": "Tibfzl2n9j61"
      },
      "execution_count": 108,
      "outputs": []
    },
    {
      "cell_type": "code",
      "source": [
        "print(A)"
      ],
      "metadata": {
        "colab": {
          "base_uri": "https://localhost:8080/"
        },
        "id": "j8T0nHVGjIYO",
        "outputId": "e5d1d48d-f82d-4891-df91-21364e38295c"
      },
      "execution_count": 109,
      "outputs": [
        {
          "output_type": "stream",
          "name": "stdout",
          "text": [
            "{1, 2, 3, 4, 5, 6, 7}\n"
          ]
        }
      ]
    },
    {
      "cell_type": "code",
      "source": [
        "myset_1 = {'one', 'two', 'three', 'four', 'five', 'six', 'seven'}\n",
        "myset_1"
      ],
      "metadata": {
        "colab": {
          "base_uri": "https://localhost:8080/"
        },
        "id": "gEXu5FnPjJSX",
        "outputId": "e6cc8ee9-80fb-43bd-af9f-bbaba862e169"
      },
      "execution_count": 110,
      "outputs": [
        {
          "output_type": "execute_result",
          "data": {
            "text/plain": [
              "{'five', 'four', 'one', 'seven', 'six', 'three', 'two'}"
            ]
          },
          "metadata": {},
          "execution_count": 110
        }
      ]
    },
    {
      "cell_type": "code",
      "source": [
        "myset_1.add('nine')\n",
        "myset_1"
      ],
      "metadata": {
        "colab": {
          "base_uri": "https://localhost:8080/"
        },
        "id": "inKKzKyZjVwA",
        "outputId": "6c59dcc3-b727-4b20-aac4-4801a70bbe69"
      },
      "execution_count": 111,
      "outputs": [
        {
          "output_type": "execute_result",
          "data": {
            "text/plain": [
              "{'five', 'four', 'nine', 'one', 'seven', 'six', 'three', 'two'}"
            ]
          },
          "metadata": {},
          "execution_count": 111
        }
      ]
    },
    {
      "cell_type": "code",
      "source": [
        "myset_1.update(['eleven', 'twelve', 'ten'])\n",
        "print(myset_1)"
      ],
      "metadata": {
        "colab": {
          "base_uri": "https://localhost:8080/"
        },
        "id": "SJbZJC7NjeLB",
        "outputId": "64183d1f-6ab0-464c-c9ac-fbcba5d97a02"
      },
      "execution_count": 112,
      "outputs": [
        {
          "output_type": "stream",
          "name": "stdout",
          "text": [
            "{'ten', 'eleven', 'twelve', 'six', 'two', 'seven', 'five', 'three', 'one', 'four', 'nine'}\n"
          ]
        }
      ]
    },
    {
      "cell_type": "markdown",
      "source": [
        "#### Dictionary"
      ],
      "metadata": {
        "id": "Wf6UyY9PpRyx"
      }
    },
    {
      "cell_type": "code",
      "source": [
        "\n",
        "mydict = dict()\n",
        "mydict = {}"
      ],
      "metadata": {
        "id": "dzI0zVsKjnaj"
      },
      "execution_count": 113,
      "outputs": []
    },
    {
      "cell_type": "code",
      "source": [
        "mydict = dict([(1,'One'),(2,'Two'),(3,'Three'),(4,'Four'),(5,'five'),(7,'seven')])\n",
        "mydict"
      ],
      "metadata": {
        "colab": {
          "base_uri": "https://localhost:8080/"
        },
        "id": "ILw4Q5vWkWPn",
        "outputId": "64d76932-b19d-4bcd-fe3c-7570dc935ac4"
      },
      "execution_count": 114,
      "outputs": [
        {
          "output_type": "execute_result",
          "data": {
            "text/plain": [
              "{1: 'One', 2: 'Two', 3: 'Three', 4: 'Four', 5: 'five', 7: 'seven'}"
            ]
          },
          "metadata": {},
          "execution_count": 114
        }
      ]
    },
    {
      "cell_type": "code",
      "source": [
        "# Nested Dictionary\n",
        "details = {'name':'Amit', 'contact':9123456890, 'email': 'prakashroy1211@gmail.com', 'address': {'city':['Delhi', 'Bangaluru','Hyderabad']}}\n",
        "details"
      ],
      "metadata": {
        "colab": {
          "base_uri": "https://localhost:8080/"
        },
        "id": "R29OXE0Sks25",
        "outputId": "eb0a62a6-1e8f-4575-9c34-b0b0ba2cc969"
      },
      "execution_count": 115,
      "outputs": [
        {
          "output_type": "execute_result",
          "data": {
            "text/plain": [
              "{'name': 'Amit',\n",
              " 'contact': 9123456890,\n",
              " 'email': 'prakashroy1211@gmail.com',\n",
              " 'address': {'city': ['Delhi', 'Bangaluru', 'Hyderabad']}}"
            ]
          },
          "metadata": {},
          "execution_count": 115
        }
      ]
    },
    {
      "cell_type": "code",
      "source": [
        "# To access values use keys\n",
        "details ['name']"
      ],
      "metadata": {
        "colab": {
          "base_uri": "https://localhost:8080/",
          "height": 35
        },
        "id": "WtyRNYNzlqtb",
        "outputId": "025fefa1-d370-41fa-8889-0bb642920a56"
      },
      "execution_count": 116,
      "outputs": [
        {
          "output_type": "execute_result",
          "data": {
            "text/plain": [
              "'Amit'"
            ],
            "application/vnd.google.colaboratory.intrinsic+json": {
              "type": "string"
            }
          },
          "metadata": {},
          "execution_count": 116
        }
      ]
    },
    {
      "cell_type": "code",
      "source": [
        "details['address']['city']"
      ],
      "metadata": {
        "colab": {
          "base_uri": "https://localhost:8080/"
        },
        "id": "IgIOQg3YnJSj",
        "outputId": "8fd84ccf-aa27-41f2-c7a8-5687c8b8c7a3"
      },
      "execution_count": 117,
      "outputs": [
        {
          "output_type": "execute_result",
          "data": {
            "text/plain": [
              "['Delhi', 'Bangaluru', 'Hyderabad']"
            ]
          },
          "metadata": {},
          "execution_count": 117
        }
      ]
    },
    {
      "cell_type": "code",
      "source": [
        "details['DOB'] = 1995"
      ],
      "metadata": {
        "id": "fFLn0Q4ynNbt"
      },
      "execution_count": 118,
      "outputs": []
    },
    {
      "cell_type": "code",
      "source": [
        "details"
      ],
      "metadata": {
        "colab": {
          "base_uri": "https://localhost:8080/"
        },
        "id": "bglhmh7qnaeQ",
        "outputId": "3109c910-4413-416c-dbce-c8c1c63721ce"
      },
      "execution_count": 119,
      "outputs": [
        {
          "output_type": "execute_result",
          "data": {
            "text/plain": [
              "{'name': 'Amit',\n",
              " 'contact': 9123456890,\n",
              " 'email': 'prakashroy1211@gmail.com',\n",
              " 'address': {'city': ['Delhi', 'Bangaluru', 'Hyderabad']},\n",
              " 'DOB': 1995}"
            ]
          },
          "metadata": {},
          "execution_count": 119
        }
      ]
    },
    {
      "cell_type": "code",
      "source": [
        "dict_1 = {'Department':'Finance', 'Salary': 75000}"
      ],
      "metadata": {
        "id": "OgFNist9nbii"
      },
      "execution_count": 120,
      "outputs": []
    },
    {
      "cell_type": "code",
      "source": [
        "details.update(dict_1)"
      ],
      "metadata": {
        "id": "J9yXJ6HPoLHL"
      },
      "execution_count": 121,
      "outputs": []
    },
    {
      "cell_type": "code",
      "source": [
        "print(details)"
      ],
      "metadata": {
        "colab": {
          "base_uri": "https://localhost:8080/"
        },
        "id": "jOVI8TKsoOcE",
        "outputId": "13e02fe8-652e-40a9-d7e8-d10ae736eb5e"
      },
      "execution_count": 122,
      "outputs": [
        {
          "output_type": "stream",
          "name": "stdout",
          "text": [
            "{'name': 'Amit', 'contact': 9123456890, 'email': 'prakashroy1211@gmail.com', 'address': {'city': ['Delhi', 'Bangaluru', 'Hyderabad']}, 'DOB': 1995, 'Department': 'Finance', 'Salary': 75000}\n"
          ]
        }
      ]
    },
    {
      "cell_type": "markdown",
      "source": [
        "#### Index and slicing\n"
      ],
      "metadata": {
        "id": "TDpINs2WpEYM"
      }
    },
    {
      "cell_type": "code",
      "source": [
        "list1 = [True, False, 123, 12.34, 'Prakash', 'This is a sentance']\n",
        "print(list1)"
      ],
      "metadata": {
        "colab": {
          "base_uri": "https://localhost:8080/"
        },
        "id": "lwoYoJBeo_0F",
        "outputId": "1069d9fd-f19b-4fd4-bcba-45c8a528d213"
      },
      "execution_count": 123,
      "outputs": [
        {
          "output_type": "stream",
          "name": "stdout",
          "text": [
            "[True, False, 123, 12.34, 'Prakash', 'This is a sentance']\n"
          ]
        }
      ]
    },
    {
      "cell_type": "code",
      "source": [
        "print(list1[5])"
      ],
      "metadata": {
        "colab": {
          "base_uri": "https://localhost:8080/"
        },
        "id": "DDq4WovjpZgz",
        "outputId": "9b33a14c-11ea-461b-bda9-750c1f8f4e54"
      },
      "execution_count": 124,
      "outputs": [
        {
          "output_type": "stream",
          "name": "stdout",
          "text": [
            "This is a sentance\n"
          ]
        }
      ]
    },
    {
      "cell_type": "code",
      "source": [
        "# start index = 0, end index = n-1\n",
        "# slicing start value = 0, end value = 4\n",
        "list1[0:5]"
      ],
      "metadata": {
        "colab": {
          "base_uri": "https://localhost:8080/"
        },
        "id": "-6IhRvr4p1Qs",
        "outputId": "d7ef2150-ab25-4df6-929f-ef5a47e2abca"
      },
      "execution_count": 125,
      "outputs": [
        {
          "output_type": "execute_result",
          "data": {
            "text/plain": [
              "[True, False, 123, 12.34, 'Prakash']"
            ]
          },
          "metadata": {},
          "execution_count": 125
        }
      ]
    },
    {
      "cell_type": "code",
      "source": [
        "# start index = 0, end index = n-1, step size = 1 (By Default)\n",
        "# It displays every alternative values\n",
        "list1[:6:2]"
      ],
      "metadata": {
        "colab": {
          "base_uri": "https://localhost:8080/"
        },
        "id": "t_1wQHy4p9Qf",
        "outputId": "82b7e661-9092-453a-b6fc-5aad2248fa7a"
      },
      "execution_count": 126,
      "outputs": [
        {
          "output_type": "execute_result",
          "data": {
            "text/plain": [
              "[True, 123, 'Prakash']"
            ]
          },
          "metadata": {},
          "execution_count": 126
        }
      ]
    },
    {
      "cell_type": "code",
      "source": [
        "# It will display last 5 elements using backward indexing\n",
        "list1[-6:]"
      ],
      "metadata": {
        "colab": {
          "base_uri": "https://localhost:8080/"
        },
        "id": "Ao0CjrHgrzPT",
        "outputId": "99519e1f-c968-4a1e-e05d-9d0e0f2cfc66"
      },
      "execution_count": 127,
      "outputs": [
        {
          "output_type": "execute_result",
          "data": {
            "text/plain": [
              "[True, False, 123, 12.34, 'Prakash', 'This is a sentance']"
            ]
          },
          "metadata": {},
          "execution_count": 127
        }
      ]
    },
    {
      "cell_type": "code",
      "source": [
        "# How to reverse a list using indexing\n",
        "list1[::-1]"
      ],
      "metadata": {
        "colab": {
          "base_uri": "https://localhost:8080/"
        },
        "id": "_txuvN8zsCH0",
        "outputId": "69e5b816-b466-47d2-ba7a-e3e7fc6d3c20"
      },
      "execution_count": 128,
      "outputs": [
        {
          "output_type": "execute_result",
          "data": {
            "text/plain": [
              "['This is a sentance', 'Prakash', 12.34, 123, False, True]"
            ]
          },
          "metadata": {},
          "execution_count": 128
        }
      ]
    },
    {
      "cell_type": "markdown",
      "source": [
        "#### Arithmetic Operations"
      ],
      "metadata": {
        "id": "oHuSdqbrshxy"
      }
    },
    {
      "cell_type": "code",
      "source": [
        "a = 27\n",
        "b = 10\n",
        "print(a+b)\n",
        "print(a-b)\n",
        "print(a/b)\n",
        "print(a*b)\n",
        "print(a**b)\n",
        "print(a//b)\n",
        "print(a%b)"
      ],
      "metadata": {
        "colab": {
          "base_uri": "https://localhost:8080/"
        },
        "id": "B279k4ZUsb0v",
        "outputId": "984c7bb0-b98b-4e2f-dec7-db9b404df471"
      },
      "execution_count": 129,
      "outputs": [
        {
          "output_type": "stream",
          "name": "stdout",
          "text": [
            "37\n",
            "17\n",
            "2.7\n",
            "270\n",
            "205891132094649\n",
            "2\n",
            "7\n"
          ]
        }
      ]
    },
    {
      "cell_type": "markdown",
      "source": [
        "### Comparison Operator"
      ],
      "metadata": {
        "id": "_9ZxBMqQs5LG"
      }
    },
    {
      "cell_type": "code",
      "source": [
        "print(a==b)\n",
        "print(a<b)\n",
        "print(a!=b)\n",
        "print(a>b)\n",
        "print(a<=b)\n",
        "print(a>=b)"
      ],
      "metadata": {
        "colab": {
          "base_uri": "https://localhost:8080/"
        },
        "id": "8FaiXbC-sx5_",
        "outputId": "5112099c-eeb3-424c-abdd-cad82b3fe263"
      },
      "execution_count": 130,
      "outputs": [
        {
          "output_type": "stream",
          "name": "stdout",
          "text": [
            "False\n",
            "False\n",
            "True\n",
            "True\n",
            "False\n",
            "True\n"
          ]
        }
      ]
    },
    {
      "cell_type": "markdown",
      "source": [
        "#### Control Flow"
      ],
      "metadata": {
        "id": "Y-o_Km_5tvrB"
      }
    },
    {
      "cell_type": "code",
      "source": [
        "num = 14\n",
        "if num < 15:\n",
        "  print('The number is less than 15')\n",
        "  print('This print statement is inside if statement')\n",
        "  print()\n",
        "\n",
        "# Default print() statement\n",
        "print('Outside if block')"
      ],
      "metadata": {
        "colab": {
          "base_uri": "https://localhost:8080/"
        },
        "id": "ssdBZwIUtgAE",
        "outputId": "d7e5d6b9-0381-4ca8-f434-0de53d6400ff"
      },
      "execution_count": 131,
      "outputs": [
        {
          "output_type": "stream",
          "name": "stdout",
          "text": [
            "The number is less than 15\n",
            "This print statement is inside if statement\n",
            "\n",
            "Outside if block\n"
          ]
        }
      ]
    },
    {
      "cell_type": "code",
      "source": [
        "age = 30\n",
        "if age < 18:\n",
        "  print('Teenager')\n",
        "elif age >= 18 and age <= 30:\n",
        "  print('Young')\n",
        "elif age >= 31 and age <= 55:\n",
        "  print('Middle Aged')\n",
        "else:\n",
        "  print('Old')"
      ],
      "metadata": {
        "colab": {
          "base_uri": "https://localhost:8080/"
        },
        "id": "W3d5_lFku74f",
        "outputId": "6e0b2250-768f-43aa-c0ae-be68b292df2b"
      },
      "execution_count": 132,
      "outputs": [
        {
          "output_type": "stream",
          "name": "stdout",
          "text": [
            "Young\n"
          ]
        }
      ]
    },
    {
      "cell_type": "markdown",
      "source": [
        "#### While Loop"
      ],
      "metadata": {
        "id": "BH98v63xwmYG"
      }
    },
    {
      "cell_type": "code",
      "source": [
        "mylist = [10,20,30,40,50,60,70,80,90]\n",
        "\n",
        "add_num = 0\n",
        "index = 0\n",
        "while index < len(mylist):\n",
        "  add_num += mylist[index]\n",
        "  index += 1\n",
        "print('Sum of List is {}'.format(add_num))"
      ],
      "metadata": {
        "colab": {
          "base_uri": "https://localhost:8080/"
        },
        "id": "XvlVau4hwjIo",
        "outputId": "74495ace-ece0-4c8a-a79b-9fb4b876d84a"
      },
      "execution_count": 133,
      "outputs": [
        {
          "output_type": "stream",
          "name": "stdout",
          "text": [
            "Sum of List is 450\n"
          ]
        }
      ]
    },
    {
      "cell_type": "markdown",
      "source": [
        "#### For Loop"
      ],
      "metadata": {
        "id": "JIlDMOwfxqoz"
      }
    },
    {
      "cell_type": "code",
      "source": [
        "mylist = [10,20,30,40,50,60,70,80]\n",
        "\n",
        "add_num = 0\n",
        "\n",
        "for element in mylist:\n",
        "  add_num += element\n",
        "print('Sum of list is {}'.format(add_num))"
      ],
      "metadata": {
        "colab": {
          "base_uri": "https://localhost:8080/"
        },
        "id": "A8B3Q35IxFy6",
        "outputId": "ef00652f-817f-4e9f-84fe-659323c365f9"
      },
      "execution_count": 134,
      "outputs": [
        {
          "output_type": "stream",
          "name": "stdout",
          "text": [
            "Sum of list is 360\n"
          ]
        }
      ]
    },
    {
      "cell_type": "code",
      "source": [
        "# WAP for login activity\n",
        "login_id = input('Enter login ID: ')\n",
        "login_pass = input('Enter login password: ')\n",
        "\n",
        "if login_id == 'abc@example.com' and login_pass == '12345678':\n",
        "  print('Login Successful')\n",
        "else:\n",
        "  print('User ID or Password is wrong. Try Again!')"
      ],
      "metadata": {
        "colab": {
          "base_uri": "https://localhost:8080/"
        },
        "id": "G6IP8GZtyTKH",
        "outputId": "451bb862-da38-41c2-c58e-7f7f0778ac24"
      },
      "execution_count": 135,
      "outputs": [
        {
          "output_type": "stream",
          "name": "stdout",
          "text": [
            "Enter login ID: abc@example.com\n",
            "Enter login password: 12345678\n",
            "Login Successful\n"
          ]
        }
      ]
    },
    {
      "cell_type": "code",
      "source": [
        "# range\n",
        "for element in range(1,21):\n",
        "  print(element)"
      ],
      "metadata": {
        "colab": {
          "base_uri": "https://localhost:8080/"
        },
        "id": "CXxXsEgN0H_d",
        "outputId": "da1cb40d-9211-4305-a84b-18b2889feb91"
      },
      "execution_count": 136,
      "outputs": [
        {
          "output_type": "stream",
          "name": "stdout",
          "text": [
            "1\n",
            "2\n",
            "3\n",
            "4\n",
            "5\n",
            "6\n",
            "7\n",
            "8\n",
            "9\n",
            "10\n",
            "11\n",
            "12\n",
            "13\n",
            "14\n",
            "15\n",
            "16\n",
            "17\n",
            "18\n",
            "19\n",
            "20\n"
          ]
        }
      ]
    },
    {
      "cell_type": "code",
      "source": [
        "for element in range(0,21,2):\n",
        "  print(element)"
      ],
      "metadata": {
        "colab": {
          "base_uri": "https://localhost:8080/"
        },
        "id": "B8NNuelA0brc",
        "outputId": "023fa4c8-0d81-4765-8b4a-acb1cba77a58"
      },
      "execution_count": 137,
      "outputs": [
        {
          "output_type": "stream",
          "name": "stdout",
          "text": [
            "0\n",
            "2\n",
            "4\n",
            "6\n",
            "8\n",
            "10\n",
            "12\n",
            "14\n",
            "16\n",
            "18\n",
            "20\n"
          ]
        }
      ]
    },
    {
      "cell_type": "markdown",
      "source": [
        "#### Functions\n"
      ],
      "metadata": {
        "id": "v1-_zI8B1Em5"
      }
    },
    {
      "cell_type": "code",
      "source": [
        "# Declaration\n",
        "\n",
        "def my_func():\n",
        "  print('Hello Pyhton Users!')"
      ],
      "metadata": {
        "id": "lJ15HILJ0o7U"
      },
      "execution_count": 138,
      "outputs": []
    },
    {
      "cell_type": "code",
      "source": [
        "# call a funciton\n",
        "my_func()"
      ],
      "metadata": {
        "colab": {
          "base_uri": "https://localhost:8080/"
        },
        "id": "S7iB_YtW1h6Q",
        "outputId": "cd44413a-1c5b-4f1e-8b21-5e1021e86809"
      },
      "execution_count": 139,
      "outputs": [
        {
          "output_type": "stream",
          "name": "stdout",
          "text": [
            "Hello Pyhton Users!\n"
          ]
        }
      ]
    },
    {
      "cell_type": "code",
      "source": [
        "# Function with an argument\n",
        "def greetings(name):\n",
        "  statement = 'Hello ' + name + ' Good Evening!'\n",
        "  return statement"
      ],
      "metadata": {
        "id": "1oi5Nn-z1ksi"
      },
      "execution_count": 140,
      "outputs": []
    },
    {
      "cell_type": "code",
      "source": [
        "greetings('Prakash')"
      ],
      "metadata": {
        "colab": {
          "base_uri": "https://localhost:8080/",
          "height": 35
        },
        "id": "91lnq6mo2A6p",
        "outputId": "9b317636-cb85-4416-a3d9-8e4aed78ae1a"
      },
      "execution_count": 141,
      "outputs": [
        {
          "output_type": "execute_result",
          "data": {
            "text/plain": [
              "'Hello Prakash Good Evening!'"
            ],
            "application/vnd.google.colaboratory.intrinsic+json": {
              "type": "string"
            }
          },
          "metadata": {},
          "execution_count": 141
        }
      ]
    }
  ]
}